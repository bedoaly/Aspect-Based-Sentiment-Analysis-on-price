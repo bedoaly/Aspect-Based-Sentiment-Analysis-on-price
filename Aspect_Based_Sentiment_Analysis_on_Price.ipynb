{
 "cells": [
  {
   "cell_type": "markdown",
   "metadata": {
    "id": "SFZEqPmge8tH"
   },
   "source": [
    "#**Read data and split it**"
   ]
  },
  {
   "cell_type": "code",
   "execution_count": 1,
   "metadata": {
    "id": "xWu9SWVCUCBs"
   },
   "outputs": [],
   "source": [
    "import pandas as pd\n",
    "from datasets import Dataset\n",
    "\n",
    "df = pd.read_csv(\"/content/price_cleaned_file.csv\")\n",
    "\n",
    "df = df.rename(columns={\"cleaned_comments\": \"text\", \"score\": \"label\"})\n",
    "\n",
    "dataset = Dataset.from_pandas(df)\n",
    "\n",
    "dataset = dataset.train_test_split(test_size=0.2, seed=42)\n"
   ]
  },
  {
   "cell_type": "code",
   "execution_count": 10,
   "metadata": {
    "colab": {
     "base_uri": "https://localhost:8080/",
     "height": 206
    },
    "id": "Aor9O2PNg6se",
    "outputId": "735dc933-d00e-4954-f9ca-44d4400e5655"
   },
   "outputs": [
    {
     "data": {
      "application/vnd.google.colaboratory.intrinsic+json": {
       "summary": "{\n  \"name\": \"df\",\n  \"rows\": 7967,\n  \"fields\": [\n    {\n      \"column\": \"comments\",\n      \"properties\": {\n        \"dtype\": \"string\",\n        \"num_unique_values\": 7967,\n        \"samples\": [\n          \"I used to swear by Canon and have a lot of handheld documentary-style and interview filmmaking under my belt as well as social media content creation.\",\n          \"Doesn\\u2019t justify the high price, feels like a scam.\",\n          \"This product is not worth the price. It doesn\\u2019t function well, and the build quality feels really cheap.\"\n        ],\n        \"semantic_type\": \"\",\n        \"description\": \"\"\n      }\n    },\n    {\n      \"column\": \"text\",\n      \"properties\": {\n        \"dtype\": \"string\",\n        \"num_unique_values\": 7967,\n        \"samples\": [\n          \"i used to swear by canon and have a lot of handheld documentarystyle and interview filmmaking under my belt as well as social media content creation\",\n          \"doesnt justify the high price feels like a scam\",\n          \"this product is not worth the price it doesnt function well and the build quality feels really cheap\"\n        ],\n        \"semantic_type\": \"\",\n        \"description\": \"\"\n      }\n    },\n    {\n      \"column\": \"label\",\n      \"properties\": {\n        \"dtype\": \"number\",\n        \"std\": 0,\n        \"min\": -1,\n        \"max\": 1,\n        \"num_unique_values\": 3,\n        \"samples\": [\n          0,\n          -1,\n          1\n        ],\n        \"semantic_type\": \"\",\n        \"description\": \"\"\n      }\n    }\n  ]\n}",
       "type": "dataframe",
       "variable_name": "df"
      },
      "text/html": [
       "\n",
       "  <div id=\"df-dfc57fca-5988-41dd-a6ec-1ce9c1591d42\" class=\"colab-df-container\">\n",
       "    <div>\n",
       "<style scoped>\n",
       "    .dataframe tbody tr th:only-of-type {\n",
       "        vertical-align: middle;\n",
       "    }\n",
       "\n",
       "    .dataframe tbody tr th {\n",
       "        vertical-align: top;\n",
       "    }\n",
       "\n",
       "    .dataframe thead th {\n",
       "        text-align: right;\n",
       "    }\n",
       "</style>\n",
       "<table border=\"1\" class=\"dataframe\">\n",
       "  <thead>\n",
       "    <tr style=\"text-align: right;\">\n",
       "      <th></th>\n",
       "      <th>comments</th>\n",
       "      <th>text</th>\n",
       "      <th>label</th>\n",
       "    </tr>\n",
       "  </thead>\n",
       "  <tbody>\n",
       "    <tr>\n",
       "      <th>0</th>\n",
       "      <td>The sound quality is great and they work well ...</td>\n",
       "      <td>the sound quality is great and they work well ...</td>\n",
       "      <td>0</td>\n",
       "    </tr>\n",
       "    <tr>\n",
       "      <th>1</th>\n",
       "      <td>The material is very disappointing.</td>\n",
       "      <td>the material is very disappointing</td>\n",
       "      <td>0</td>\n",
       "    </tr>\n",
       "    <tr>\n",
       "      <th>2</th>\n",
       "      <td>The price is ridiculous for such a low-quality...</td>\n",
       "      <td>the price is ridiculous for such a lowquality ...</td>\n",
       "      <td>-1</td>\n",
       "    </tr>\n",
       "    <tr>\n",
       "      <th>3</th>\n",
       "      <td>The price is excellent for something that work...</td>\n",
       "      <td>the price is excellent for something that work...</td>\n",
       "      <td>1</td>\n",
       "    </tr>\n",
       "    <tr>\n",
       "      <th>4</th>\n",
       "      <td>This works great and fits great and would defi...</td>\n",
       "      <td>this works great and fits great and would defi...</td>\n",
       "      <td>0</td>\n",
       "    </tr>\n",
       "  </tbody>\n",
       "</table>\n",
       "</div>\n",
       "    <div class=\"colab-df-buttons\">\n",
       "\n",
       "  <div class=\"colab-df-container\">\n",
       "    <button class=\"colab-df-convert\" onclick=\"convertToInteractive('df-dfc57fca-5988-41dd-a6ec-1ce9c1591d42')\"\n",
       "            title=\"Convert this dataframe to an interactive table.\"\n",
       "            style=\"display:none;\">\n",
       "\n",
       "  <svg xmlns=\"http://www.w3.org/2000/svg\" height=\"24px\" viewBox=\"0 -960 960 960\">\n",
       "    <path d=\"M120-120v-720h720v720H120Zm60-500h600v-160H180v160Zm220 220h160v-160H400v160Zm0 220h160v-160H400v160ZM180-400h160v-160H180v160Zm440 0h160v-160H620v160ZM180-180h160v-160H180v160Zm440 0h160v-160H620v160Z\"/>\n",
       "  </svg>\n",
       "    </button>\n",
       "\n",
       "  <style>\n",
       "    .colab-df-container {\n",
       "      display:flex;\n",
       "      gap: 12px;\n",
       "    }\n",
       "\n",
       "    .colab-df-convert {\n",
       "      background-color: #E8F0FE;\n",
       "      border: none;\n",
       "      border-radius: 50%;\n",
       "      cursor: pointer;\n",
       "      display: none;\n",
       "      fill: #1967D2;\n",
       "      height: 32px;\n",
       "      padding: 0 0 0 0;\n",
       "      width: 32px;\n",
       "    }\n",
       "\n",
       "    .colab-df-convert:hover {\n",
       "      background-color: #E2EBFA;\n",
       "      box-shadow: 0px 1px 2px rgba(60, 64, 67, 0.3), 0px 1px 3px 1px rgba(60, 64, 67, 0.15);\n",
       "      fill: #174EA6;\n",
       "    }\n",
       "\n",
       "    .colab-df-buttons div {\n",
       "      margin-bottom: 4px;\n",
       "    }\n",
       "\n",
       "    [theme=dark] .colab-df-convert {\n",
       "      background-color: #3B4455;\n",
       "      fill: #D2E3FC;\n",
       "    }\n",
       "\n",
       "    [theme=dark] .colab-df-convert:hover {\n",
       "      background-color: #434B5C;\n",
       "      box-shadow: 0px 1px 3px 1px rgba(0, 0, 0, 0.15);\n",
       "      filter: drop-shadow(0px 1px 2px rgba(0, 0, 0, 0.3));\n",
       "      fill: #FFFFFF;\n",
       "    }\n",
       "  </style>\n",
       "\n",
       "    <script>\n",
       "      const buttonEl =\n",
       "        document.querySelector('#df-dfc57fca-5988-41dd-a6ec-1ce9c1591d42 button.colab-df-convert');\n",
       "      buttonEl.style.display =\n",
       "        google.colab.kernel.accessAllowed ? 'block' : 'none';\n",
       "\n",
       "      async function convertToInteractive(key) {\n",
       "        const element = document.querySelector('#df-dfc57fca-5988-41dd-a6ec-1ce9c1591d42');\n",
       "        const dataTable =\n",
       "          await google.colab.kernel.invokeFunction('convertToInteractive',\n",
       "                                                    [key], {});\n",
       "        if (!dataTable) return;\n",
       "\n",
       "        const docLinkHtml = 'Like what you see? Visit the ' +\n",
       "          '<a target=\"_blank\" href=https://colab.research.google.com/notebooks/data_table.ipynb>data table notebook</a>'\n",
       "          + ' to learn more about interactive tables.';\n",
       "        element.innerHTML = '';\n",
       "        dataTable['output_type'] = 'display_data';\n",
       "        await google.colab.output.renderOutput(dataTable, element);\n",
       "        const docLink = document.createElement('div');\n",
       "        docLink.innerHTML = docLinkHtml;\n",
       "        element.appendChild(docLink);\n",
       "      }\n",
       "    </script>\n",
       "  </div>\n",
       "\n",
       "\n",
       "    <div id=\"df-5c181278-7d45-4609-ae52-c31c11eb95de\">\n",
       "      <button class=\"colab-df-quickchart\" onclick=\"quickchart('df-5c181278-7d45-4609-ae52-c31c11eb95de')\"\n",
       "                title=\"Suggest charts\"\n",
       "                style=\"display:none;\">\n",
       "\n",
       "<svg xmlns=\"http://www.w3.org/2000/svg\" height=\"24px\"viewBox=\"0 0 24 24\"\n",
       "     width=\"24px\">\n",
       "    <g>\n",
       "        <path d=\"M19 3H5c-1.1 0-2 .9-2 2v14c0 1.1.9 2 2 2h14c1.1 0 2-.9 2-2V5c0-1.1-.9-2-2-2zM9 17H7v-7h2v7zm4 0h-2V7h2v10zm4 0h-2v-4h2v4z\"/>\n",
       "    </g>\n",
       "</svg>\n",
       "      </button>\n",
       "\n",
       "<style>\n",
       "  .colab-df-quickchart {\n",
       "      --bg-color: #E8F0FE;\n",
       "      --fill-color: #1967D2;\n",
       "      --hover-bg-color: #E2EBFA;\n",
       "      --hover-fill-color: #174EA6;\n",
       "      --disabled-fill-color: #AAA;\n",
       "      --disabled-bg-color: #DDD;\n",
       "  }\n",
       "\n",
       "  [theme=dark] .colab-df-quickchart {\n",
       "      --bg-color: #3B4455;\n",
       "      --fill-color: #D2E3FC;\n",
       "      --hover-bg-color: #434B5C;\n",
       "      --hover-fill-color: #FFFFFF;\n",
       "      --disabled-bg-color: #3B4455;\n",
       "      --disabled-fill-color: #666;\n",
       "  }\n",
       "\n",
       "  .colab-df-quickchart {\n",
       "    background-color: var(--bg-color);\n",
       "    border: none;\n",
       "    border-radius: 50%;\n",
       "    cursor: pointer;\n",
       "    display: none;\n",
       "    fill: var(--fill-color);\n",
       "    height: 32px;\n",
       "    padding: 0;\n",
       "    width: 32px;\n",
       "  }\n",
       "\n",
       "  .colab-df-quickchart:hover {\n",
       "    background-color: var(--hover-bg-color);\n",
       "    box-shadow: 0 1px 2px rgba(60, 64, 67, 0.3), 0 1px 3px 1px rgba(60, 64, 67, 0.15);\n",
       "    fill: var(--button-hover-fill-color);\n",
       "  }\n",
       "\n",
       "  .colab-df-quickchart-complete:disabled,\n",
       "  .colab-df-quickchart-complete:disabled:hover {\n",
       "    background-color: var(--disabled-bg-color);\n",
       "    fill: var(--disabled-fill-color);\n",
       "    box-shadow: none;\n",
       "  }\n",
       "\n",
       "  .colab-df-spinner {\n",
       "    border: 2px solid var(--fill-color);\n",
       "    border-color: transparent;\n",
       "    border-bottom-color: var(--fill-color);\n",
       "    animation:\n",
       "      spin 1s steps(1) infinite;\n",
       "  }\n",
       "\n",
       "  @keyframes spin {\n",
       "    0% {\n",
       "      border-color: transparent;\n",
       "      border-bottom-color: var(--fill-color);\n",
       "      border-left-color: var(--fill-color);\n",
       "    }\n",
       "    20% {\n",
       "      border-color: transparent;\n",
       "      border-left-color: var(--fill-color);\n",
       "      border-top-color: var(--fill-color);\n",
       "    }\n",
       "    30% {\n",
       "      border-color: transparent;\n",
       "      border-left-color: var(--fill-color);\n",
       "      border-top-color: var(--fill-color);\n",
       "      border-right-color: var(--fill-color);\n",
       "    }\n",
       "    40% {\n",
       "      border-color: transparent;\n",
       "      border-right-color: var(--fill-color);\n",
       "      border-top-color: var(--fill-color);\n",
       "    }\n",
       "    60% {\n",
       "      border-color: transparent;\n",
       "      border-right-color: var(--fill-color);\n",
       "    }\n",
       "    80% {\n",
       "      border-color: transparent;\n",
       "      border-right-color: var(--fill-color);\n",
       "      border-bottom-color: var(--fill-color);\n",
       "    }\n",
       "    90% {\n",
       "      border-color: transparent;\n",
       "      border-bottom-color: var(--fill-color);\n",
       "    }\n",
       "  }\n",
       "</style>\n",
       "\n",
       "      <script>\n",
       "        async function quickchart(key) {\n",
       "          const quickchartButtonEl =\n",
       "            document.querySelector('#' + key + ' button');\n",
       "          quickchartButtonEl.disabled = true;  // To prevent multiple clicks.\n",
       "          quickchartButtonEl.classList.add('colab-df-spinner');\n",
       "          try {\n",
       "            const charts = await google.colab.kernel.invokeFunction(\n",
       "                'suggestCharts', [key], {});\n",
       "          } catch (error) {\n",
       "            console.error('Error during call to suggestCharts:', error);\n",
       "          }\n",
       "          quickchartButtonEl.classList.remove('colab-df-spinner');\n",
       "          quickchartButtonEl.classList.add('colab-df-quickchart-complete');\n",
       "        }\n",
       "        (() => {\n",
       "          let quickchartButtonEl =\n",
       "            document.querySelector('#df-5c181278-7d45-4609-ae52-c31c11eb95de button');\n",
       "          quickchartButtonEl.style.display =\n",
       "            google.colab.kernel.accessAllowed ? 'block' : 'none';\n",
       "        })();\n",
       "      </script>\n",
       "    </div>\n",
       "\n",
       "    </div>\n",
       "  </div>\n"
      ],
      "text/plain": [
       "                                            comments  \\\n",
       "0  The sound quality is great and they work well ...   \n",
       "1                The material is very disappointing.   \n",
       "2  The price is ridiculous for such a low-quality...   \n",
       "3  The price is excellent for something that work...   \n",
       "4  This works great and fits great and would defi...   \n",
       "\n",
       "                                                text  label  \n",
       "0  the sound quality is great and they work well ...      0  \n",
       "1                 the material is very disappointing      0  \n",
       "2  the price is ridiculous for such a lowquality ...     -1  \n",
       "3  the price is excellent for something that work...      1  \n",
       "4  this works great and fits great and would defi...      0  "
      ]
     },
     "execution_count": 10,
     "metadata": {},
     "output_type": "execute_result"
    }
   ],
   "source": [
    "df.head()"
   ]
  },
  {
   "cell_type": "markdown",
   "metadata": {
    "id": "nMgwNsXBfLpY"
   },
   "source": [
    "# **Use tokenizer of roberta**"
   ]
  },
  {
   "cell_type": "code",
   "execution_count": 2,
   "metadata": {
    "colab": {
     "base_uri": "https://localhost:8080/",
     "height": 365,
     "referenced_widgets": [
      "4fd4f3ff1f234159af6e26ad0190ea9d",
      "63f35133910441c08bfe8ba42f317e2d",
      "951a02c4961d44b7aec3567d6acb7149",
      "b4e62fe2658b49889689015feede5b47",
      "91914b6934114dd2a81017eedaa90ed9",
      "5b99d1883e4e4b8b96dd8cb54c326f0e",
      "b609a169aab64656bef75956da062408",
      "9acda8264a01467bba741e3884af7ca7",
      "f3678cabffc04314840f99557525f95a",
      "69ac0cec16b14f08983195a425807242",
      "9225991362394621917f914d2f004734",
      "c6ec468006f94ee897e0d859a9ef70cb",
      "9db15d11d69442e49beefc4874240f4d",
      "edc6910a8abd413aa3b2c2fc8c1913ff",
      "08800baf740444f78bf5f06cdf45ec59",
      "11e6286a2a1c4909be2dfdc50f4f7db2",
      "5f9932dea0aa4f2dbe72128c106b38e3",
      "da95a8afbc6d4b7e939f46765a1abe21",
      "3c78bd087ec946d98c325ec003bfbece",
      "a283ecd0bc73447cbcbd53115492ca53",
      "e5865214cd9d4b41ae060c36ce4a5578",
      "7fc4238b816c437eac3879905fb988bd",
      "dad0f013eb964e209db2f54cccc22e27",
      "e75c4829b04942be9416f4797fd3ae45",
      "7f1825189d7f47afa14b15e736029f04",
      "395ed867755647c8b53f8b8988d2bef3",
      "8c023815e155478d9b1adce6a939002d",
      "bec5a95b943e41beaa9ce8a74a7740fe",
      "75acdc44f9a64832980ac8c261a75722",
      "b24e5b7e98574b8b9c83737dd08e72ef",
      "22423b0f586f4c46bbdbbaa03d01e544",
      "e261c1a31be64c3a875351ec0a62661d",
      "8e13ed1631364202a37d43a514846179",
      "e5d3e7cbd16343c78c115cbc07687e96",
      "3772924b8db14a9ea82594c796875589",
      "a282aad6baa0426fbf1d190096325a51",
      "14f4a6ba7f4d472b8739cdf3c242781d",
      "f63dca17d7f64a81b12e857704425112",
      "09ade839d8d14f68a5c31f4e495f3fc9",
      "154ea0d1405e4401bbabf320a61ee708",
      "132e91c887014a858886c2051e3ee1aa",
      "e498402e2e4f498a80db5053ddbd967e",
      "ad527664d11d4980a920ab6230b77fca",
      "0262dc723fe643ad83e9d3d720e20f10",
      "a4da473a689943e98500f928c5abd857",
      "5b9c43cb4b634d06933aadceea885e64",
      "5531c09aa7974b3aabf41578fcf273ef",
      "8b347865f65f4abc8e1d02f299ae7d5c",
      "d69dc275aabf4274ad54bae06b6d9d7a",
      "a64ef7fe30e148a28b6284ccaa12abf0",
      "651f22e468fe40568e887ceec1d7f12e",
      "512b182286bb4d23ba2ff17e5060e3c9",
      "643be4a075e0472d9b65b242de703b15",
      "563c497960fe40b988e61089cced5b0c",
      "0740163441c2477c81f5d73c19629830",
      "f68a5e4c208946d6ab89c42ad228d928",
      "45619fd72f5444308c1d0de1936af232",
      "b20bd37d6d484ffabce90fd6fe87aaa9",
      "307b74c5ee404ba1b94bdbddb0a2f904",
      "c4af4e615b9d4a8bb42cfa011e5cf1b5",
      "6701f7dfdd22406d9db9149b1ebcf9ed",
      "50e6cad35d9f44af90fe25a880d7c1a5",
      "297bc76bef574fb6be451db987be8a10",
      "e716f49346e4481bb0e8ffcc6d0f182c",
      "3dc7f2db5c9b4a6aa91bfa6d12a2efd7",
      "9a0b5590533b499297e1f7c6abcc12fe",
      "8f69e2d860f84db6b2e76cbe37c75270",
      "5e762f131b454b68978ca5b1b01b1757",
      "f94be4aea4814acf88c1274980dbde1f",
      "56a6cb04bde44cceb36d38ad8a8dc3ff",
      "3bf2e631da4f4436a5749bce05a62561",
      "600a1d6aa53d4de6b7b8f9c24b77a6ef",
      "8137dd0a981043b289009f3641a48987",
      "cb76dc3d94b24410b2c7814d2f5ad805",
      "1b273f1491c04e16b1074a87c4ec7dbf",
      "382baca2b3ba48eaa106e26b4792d942",
      "d8d56365ff1a4eceacfc9ede9d5dfeb9"
     ]
    },
    "id": "bdDiMXFmV0Ud",
    "outputId": "2dcd118f-74f9-4697-bf98-b540ebe37dce"
   },
   "outputs": [
    {
     "name": "stderr",
     "output_type": "stream",
     "text": [
      "/usr/local/lib/python3.12/dist-packages/huggingface_hub/utils/_auth.py:94: UserWarning: \n",
      "The secret `HF_TOKEN` does not exist in your Colab secrets.\n",
      "To authenticate with the Hugging Face Hub, create a token in your settings tab (https://huggingface.co/settings/tokens), set it as secret in your Google Colab and restart your session.\n",
      "You will be able to reuse this secret in all of your notebooks.\n",
      "Please note that authentication is recommended but still optional to access public models or datasets.\n",
      "  warnings.warn(\n"
     ]
    },
    {
     "data": {
      "application/vnd.jupyter.widget-view+json": {
       "model_id": "4fd4f3ff1f234159af6e26ad0190ea9d",
       "version_major": 2,
       "version_minor": 0
      },
      "text/plain": [
       "tokenizer_config.json:   0%|          | 0.00/25.0 [00:00<?, ?B/s]"
      ]
     },
     "metadata": {},
     "output_type": "display_data"
    },
    {
     "data": {
      "application/vnd.jupyter.widget-view+json": {
       "model_id": "c6ec468006f94ee897e0d859a9ef70cb",
       "version_major": 2,
       "version_minor": 0
      },
      "text/plain": [
       "vocab.json:   0%|          | 0.00/899k [00:00<?, ?B/s]"
      ]
     },
     "metadata": {},
     "output_type": "display_data"
    },
    {
     "data": {
      "application/vnd.jupyter.widget-view+json": {
       "model_id": "dad0f013eb964e209db2f54cccc22e27",
       "version_major": 2,
       "version_minor": 0
      },
      "text/plain": [
       "merges.txt:   0%|          | 0.00/456k [00:00<?, ?B/s]"
      ]
     },
     "metadata": {},
     "output_type": "display_data"
    },
    {
     "data": {
      "application/vnd.jupyter.widget-view+json": {
       "model_id": "e5d3e7cbd16343c78c115cbc07687e96",
       "version_major": 2,
       "version_minor": 0
      },
      "text/plain": [
       "tokenizer.json:   0%|          | 0.00/1.36M [00:00<?, ?B/s]"
      ]
     },
     "metadata": {},
     "output_type": "display_data"
    },
    {
     "data": {
      "application/vnd.jupyter.widget-view+json": {
       "model_id": "a4da473a689943e98500f928c5abd857",
       "version_major": 2,
       "version_minor": 0
      },
      "text/plain": [
       "config.json:   0%|          | 0.00/481 [00:00<?, ?B/s]"
      ]
     },
     "metadata": {},
     "output_type": "display_data"
    },
    {
     "data": {
      "application/vnd.jupyter.widget-view+json": {
       "model_id": "f68a5e4c208946d6ab89c42ad228d928",
       "version_major": 2,
       "version_minor": 0
      },
      "text/plain": [
       "Map:   0%|          | 0/6373 [00:00<?, ? examples/s]"
      ]
     },
     "metadata": {},
     "output_type": "display_data"
    },
    {
     "data": {
      "application/vnd.jupyter.widget-view+json": {
       "model_id": "8f69e2d860f84db6b2e76cbe37c75270",
       "version_major": 2,
       "version_minor": 0
      },
      "text/plain": [
       "Map:   0%|          | 0/1594 [00:00<?, ? examples/s]"
      ]
     },
     "metadata": {},
     "output_type": "display_data"
    }
   ],
   "source": [
    "from transformers import RobertaTokenizer\n",
    "\n",
    "tokenizer = RobertaTokenizer.from_pretrained(\"roberta-base\")\n",
    "\n",
    "def tokenize_function(examples):\n",
    "    return tokenizer(examples[\"text\"], truncation=True, padding=\"max_length\", max_length=128)\n",
    "\n",
    "tokenized_dataset = dataset.map(tokenize_function, batched=True)\n"
   ]
  },
  {
   "cell_type": "markdown",
   "metadata": {
    "id": "AQl7BEdwfUmh"
   },
   "source": [
    "# **add label +1**"
   ]
  },
  {
   "cell_type": "code",
   "execution_count": 3,
   "metadata": {
    "colab": {
     "base_uri": "https://localhost:8080/",
     "height": 168,
     "referenced_widgets": [
      "44fac679b2864e58aad7cb8d36dd60b8",
      "b9afc5d5190a4c31bdc265b012316c88",
      "a7832abf4027415d97cee41c4d6537e6",
      "256b791e25c34ec3adb19d3c44d239cd",
      "b0c8c6cf42c3470e90402b3e27e4ba45",
      "433458b80c9948a5a46cb88ae4014fad",
      "784ebdf756ad40faa8ef59ff3fd748f1",
      "d156876d889842569d6dbaa16d5bc395",
      "646867c43bb44afe8f5da8d4e33684c3",
      "c125dbdb4f754463860beec478d6c5b3",
      "9d3c3a05b8914c1a9117c9c4282b4d01",
      "7596b5e4cb45497aa6af71ccc8e6dc67",
      "f3edd1347b5145cda549f37c81aaa28c",
      "034b342279b74e1ea3001f9b6b1e243b",
      "44cbd38a42a94656bb0c4168a12240c9",
      "a0285345bad64ba6ac38fbd7f8679d86",
      "c5e09e3e590e499aa0c1b56509138200",
      "a403c98fba1f40d4b672d6f087348b70",
      "3fef00bc541a41f0ab0406f18c42f1a2",
      "46531b08f4964e888a7952cbd6f6010f",
      "39a84945ad4245618f6a4ec49679d647",
      "9cf3b9de45e0468eafffc241f61cb1ba",
      "2874a5f5bbfa4df9b6d7e5007af3a986",
      "41b6c9cc36d9423194566701caf5b6b5",
      "c659791739244dafb59f379e665dd1e7",
      "b72438e0df9e4df2b8fa91f18fa43d38",
      "f4af007a74e94c73bd864337233d1101",
      "0124b6b9ad3b44e9b444bd6d4a8077ac",
      "85c68bcdc3f449b48d581107073e1f5b",
      "4e07fa248ed5454e8aaeb786e99e1de3",
      "0bdb688102c04f58b8e76427397dda7b",
      "7a3898c884ef4160b9aec3eccafc102a",
      "38b194e7511d4e9580e8eeb3ba7fee10"
     ]
    },
    "id": "19WuCpMXWpbG",
    "outputId": "e588f2dc-7d7d-4fcc-c184-a423724db258"
   },
   "outputs": [
    {
     "data": {
      "application/vnd.jupyter.widget-view+json": {
       "model_id": "44fac679b2864e58aad7cb8d36dd60b8",
       "version_major": 2,
       "version_minor": 0
      },
      "text/plain": [
       "Map:   0%|          | 0/6373 [00:00<?, ? examples/s]"
      ]
     },
     "metadata": {},
     "output_type": "display_data"
    },
    {
     "data": {
      "application/vnd.jupyter.widget-view+json": {
       "model_id": "7596b5e4cb45497aa6af71ccc8e6dc67",
       "version_major": 2,
       "version_minor": 0
      },
      "text/plain": [
       "Map:   0%|          | 0/1594 [00:00<?, ? examples/s]"
      ]
     },
     "metadata": {},
     "output_type": "display_data"
    },
    {
     "data": {
      "application/vnd.jupyter.widget-view+json": {
       "model_id": "2874a5f5bbfa4df9b6d7e5007af3a986",
       "version_major": 2,
       "version_minor": 0
      },
      "text/plain": [
       "model.safetensors:   0%|          | 0.00/499M [00:00<?, ?B/s]"
      ]
     },
     "metadata": {},
     "output_type": "display_data"
    },
    {
     "name": "stderr",
     "output_type": "stream",
     "text": [
      "Some weights of RobertaForSequenceClassification were not initialized from the model checkpoint at roberta-base and are newly initialized: ['classifier.dense.bias', 'classifier.dense.weight', 'classifier.out_proj.bias', 'classifier.out_proj.weight']\n",
      "You should probably TRAIN this model on a down-stream task to be able to use it for predictions and inference.\n"
     ]
    }
   ],
   "source": [
    "from transformers import RobertaForSequenceClassification\n",
    "\n",
    "\n",
    "label2id = {-1: 0, 0: 1, 1: 2}\n",
    "id2label = {0: -1, 1: 0, 2: 1}\n",
    "\n",
    "def convert_labels(example):\n",
    "    example[\"label\"] = label2id[example[\"label\"]]\n",
    "    return example\n",
    "\n",
    "tokenized_dataset = tokenized_dataset.map(convert_labels)\n",
    "\n",
    "model = RobertaForSequenceClassification.from_pretrained(\"roberta-base\", num_labels=3)\n"
   ]
  },
  {
   "cell_type": "markdown",
   "metadata": {
    "id": "XYAqvh8sfgqM"
   },
   "source": [
    "# **Train model**"
   ]
  },
  {
   "cell_type": "code",
   "execution_count": 7,
   "metadata": {
    "colab": {
     "base_uri": "https://localhost:8080/",
     "height": 441
    },
    "id": "Ns-7iY1rV_QI",
    "outputId": "cfeef21c-74c6-4984-da54-bddfb0a1880b"
   },
   "outputs": [
    {
     "data": {
      "text/html": [
       "\n",
       "    <div>\n",
       "      \n",
       "      <progress value='3990' max='3990' style='width:300px; height:20px; vertical-align: middle;'></progress>\n",
       "      [3990/3990 26:44, Epoch 10/10]\n",
       "    </div>\n",
       "    <table border=\"1\" class=\"dataframe\">\n",
       "  <thead>\n",
       " <tr style=\"text-align: left;\">\n",
       "      <th>Epoch</th>\n",
       "      <th>Training Loss</th>\n",
       "      <th>Validation Loss</th>\n",
       "      <th>Accuracy</th>\n",
       "      <th>Precision</th>\n",
       "      <th>Recall</th>\n",
       "      <th>F1</th>\n",
       "    </tr>\n",
       "  </thead>\n",
       "  <tbody>\n",
       "    <tr>\n",
       "      <td>1</td>\n",
       "      <td>0.258500</td>\n",
       "      <td>0.164084</td>\n",
       "      <td>0.965496</td>\n",
       "      <td>0.965744</td>\n",
       "      <td>0.965496</td>\n",
       "      <td>0.965476</td>\n",
       "    </tr>\n",
       "    <tr>\n",
       "      <td>2</td>\n",
       "      <td>0.042300</td>\n",
       "      <td>0.178868</td>\n",
       "      <td>0.967378</td>\n",
       "      <td>0.967957</td>\n",
       "      <td>0.967378</td>\n",
       "      <td>0.967373</td>\n",
       "    </tr>\n",
       "    <tr>\n",
       "      <td>3</td>\n",
       "      <td>0.193100</td>\n",
       "      <td>0.171751</td>\n",
       "      <td>0.964868</td>\n",
       "      <td>0.965653</td>\n",
       "      <td>0.964868</td>\n",
       "      <td>0.964881</td>\n",
       "    </tr>\n",
       "    <tr>\n",
       "      <td>4</td>\n",
       "      <td>0.026200</td>\n",
       "      <td>0.213579</td>\n",
       "      <td>0.961731</td>\n",
       "      <td>0.962451</td>\n",
       "      <td>0.961731</td>\n",
       "      <td>0.961816</td>\n",
       "    </tr>\n",
       "    <tr>\n",
       "      <td>5</td>\n",
       "      <td>0.018400</td>\n",
       "      <td>0.182879</td>\n",
       "      <td>0.969260</td>\n",
       "      <td>0.970245</td>\n",
       "      <td>0.969260</td>\n",
       "      <td>0.969379</td>\n",
       "    </tr>\n",
       "    <tr>\n",
       "      <td>6</td>\n",
       "      <td>0.013000</td>\n",
       "      <td>0.191060</td>\n",
       "      <td>0.966123</td>\n",
       "      <td>0.966991</td>\n",
       "      <td>0.966123</td>\n",
       "      <td>0.966179</td>\n",
       "    </tr>\n",
       "    <tr>\n",
       "      <td>7</td>\n",
       "      <td>0.137400</td>\n",
       "      <td>0.251859</td>\n",
       "      <td>0.966123</td>\n",
       "      <td>0.966540</td>\n",
       "      <td>0.966123</td>\n",
       "      <td>0.966159</td>\n",
       "    </tr>\n",
       "    <tr>\n",
       "      <td>8</td>\n",
       "      <td>0.036400</td>\n",
       "      <td>0.257209</td>\n",
       "      <td>0.964241</td>\n",
       "      <td>0.964979</td>\n",
       "      <td>0.964241</td>\n",
       "      <td>0.964345</td>\n",
       "    </tr>\n",
       "    <tr>\n",
       "      <td>9</td>\n",
       "      <td>0.000300</td>\n",
       "      <td>0.257386</td>\n",
       "      <td>0.964241</td>\n",
       "      <td>0.964894</td>\n",
       "      <td>0.964241</td>\n",
       "      <td>0.964326</td>\n",
       "    </tr>\n",
       "    <tr>\n",
       "      <td>10</td>\n",
       "      <td>0.023400</td>\n",
       "      <td>0.260162</td>\n",
       "      <td>0.963614</td>\n",
       "      <td>0.964361</td>\n",
       "      <td>0.963614</td>\n",
       "      <td>0.963693</td>\n",
       "    </tr>\n",
       "  </tbody>\n",
       "</table><p>"
      ],
      "text/plain": [
       "<IPython.core.display.HTML object>"
      ]
     },
     "metadata": {},
     "output_type": "display_data"
    },
    {
     "data": {
      "text/plain": [
       "TrainOutput(global_step=3990, training_loss=0.06330683795084015, metrics={'train_runtime': 1604.4748, 'train_samples_per_second': 39.72, 'train_steps_per_second': 2.487, 'total_flos': 4192054527951360.0, 'train_loss': 0.06330683795084015, 'epoch': 10.0})"
      ]
     },
     "execution_count": 7,
     "metadata": {},
     "output_type": "execute_result"
    }
   ],
   "source": [
    "from sklearn.metrics import accuracy_score, precision_recall_fscore_support\n",
    "import numpy as np\n",
    "\n",
    "\n",
    "def compute_metrics(eval_pred):\n",
    "    logits, labels = eval_pred\n",
    "    preds = np.argmax(logits, axis=-1)\n",
    "    acc = accuracy_score(labels, preds)\n",
    "    precision, recall, f1, _ = precision_recall_fscore_support(labels, preds, average=\"weighted\")\n",
    "    return {\n",
    "        \"accuracy\": acc,\n",
    "        \"precision\": precision,\n",
    "        \"recall\": recall,\n",
    "        \"f1\": f1\n",
    "    }\n",
    "\n",
    "from transformers import TrainingArguments, Trainer\n",
    "\n",
    "training_args = TrainingArguments(\n",
    "    output_dir=\"./results\",\n",
    "    eval_strategy=\"epoch\",\n",
    "    save_strategy=\"epoch\",\n",
    "    per_device_train_batch_size=16,\n",
    "    per_device_eval_batch_size=16,\n",
    "    num_train_epochs=10,\n",
    "    weight_decay=0.01,\n",
    "    logging_dir=\"./logs\",\n",
    "    logging_steps=10,\n",
    "    load_best_model_at_end=True,\n",
    "    metric_for_best_model=\"accuracy\"\n",
    ")\n",
    "\n",
    "trainer = Trainer(\n",
    "    model=model,\n",
    "    args=training_args,\n",
    "    train_dataset=tokenized_dataset[\"train\"],\n",
    "    eval_dataset=tokenized_dataset[\"test\"],\n",
    "    compute_metrics=compute_metrics\n",
    ")\n",
    "\n",
    "trainer.train()\n"
   ]
  },
  {
   "cell_type": "markdown",
   "metadata": {
    "id": "ob3gY1fZfjQG"
   },
   "source": [
    "# **Evaluation of model**"
   ]
  },
  {
   "cell_type": "code",
   "execution_count": 8,
   "metadata": {
    "colab": {
     "base_uri": "https://localhost:8080/",
     "height": 191
    },
    "id": "yaYboJzvWB5T",
    "outputId": "8e6452a7-bd15-4fd7-eb13-c09de227be8a"
   },
   "outputs": [
    {
     "data": {
      "text/html": [],
      "text/plain": [
       "<IPython.core.display.HTML object>"
      ]
     },
     "metadata": {},
     "output_type": "display_data"
    },
    {
     "name": "stdout",
     "output_type": "stream",
     "text": [
      "                  precision    recall  f1-score   support\n",
      "\n",
      "    Negative(-1)       0.97      0.98      0.98       568\n",
      "not mentioned(0)       0.99      0.95      0.97       696\n",
      "     Positive(1)       0.93      0.98      0.95       330\n",
      "\n",
      "        accuracy                           0.97      1594\n",
      "       macro avg       0.96      0.97      0.97      1594\n",
      "    weighted avg       0.97      0.97      0.97      1594\n",
      "\n"
     ]
    }
   ],
   "source": [
    "import numpy as np\n",
    "from sklearn.metrics import classification_report\n",
    "\n",
    "preds = trainer.predict(tokenized_dataset[\"test\"])\n",
    "y_pred = np.argmax(preds.predictions, axis=1)\n",
    "y_true = tokenized_dataset[\"test\"][\"label\"]\n",
    "\n",
    "print(classification_report(y_true, y_pred, target_names=[\"Negative(-1)\", \"not mentioned(0)\", \"Positive(1)\"]))\n"
   ]
  },
  {
   "cell_type": "markdown",
   "metadata": {
    "id": "h6Bqvzy6tA5l"
   },
   "source": [
    "# **Confusion Matrix**"
   ]
  },
  {
   "cell_type": "code",
   "execution_count": 9,
   "metadata": {
    "colab": {
     "base_uri": "https://localhost:8080/",
     "height": 410
    },
    "id": "IklxxsIGedsA",
    "outputId": "13b506e5-365a-4d83-82b0-b0e03a194f3f"
   },
   "outputs": [
    {
     "data": {
      "image/png": "[encoded data removed]",
      "text/plain": [
       "<Figure size 600x400 with 2 Axes>"
      ]
     },
     "metadata": {},
     "output_type": "display_data"
    }
   ],
   "source": [
    "import matplotlib.pyplot as plt\n",
    "import seaborn as sns\n",
    "from sklearn.metrics import confusion_matrix\n",
    "\n",
    "\n",
    "cm = confusion_matrix(y_true, y_pred)\n",
    "\n",
    "\n",
    "labels = [\"Negative(-1)\", \"Not Mentioned(0)\", \"Positive(1)\"]\n",
    "\n",
    "\n",
    "plt.figure(figsize=(6,4))\n",
    "sns.heatmap(cm, annot=True, fmt=\"d\", cmap=\"Blues\", xticklabels=labels, yticklabels=labels)\n",
    "plt.xlabel(\"Predicted\")\n",
    "plt.ylabel(\"True\")\n",
    "plt.title(\"Confusion Matrix\")\n",
    "plt.show()\n"
   ]
  }
 ],
 "metadata": {
  "accelerator": "GPU",
  "colab": {
   "gpuType": "T4",
   "provenance": []
  },
  "kernelspec": {
   "display_name": "Python 3",
   "name": "python3"
  },
  "language_info": {
   "name": "python"
  }
 },
 "nbformat": 4,
 "nbformat_minor": 0
}
